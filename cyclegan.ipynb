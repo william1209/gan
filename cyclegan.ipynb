{
  "nbformat": 4,
  "nbformat_minor": 0,
  "metadata": {
    "accelerator": "GPU",
    "colab": {
      "name": "cyclegan.ipynb",
      "provenance": [],
      "private_outputs": true,
      "collapsed_sections": [],
      "toc_visible": true,
      "include_colab_link": true
    },
    "kernelspec": {
      "display_name": "Python 3",
      "language": "python",
      "name": "python3"
    },
    "language_info": {
      "codemirror_mode": {
        "name": "ipython",
        "version": 3
      },
      "file_extension": ".py",
      "mimetype": "text/x-python",
      "name": "python",
      "nbconvert_exporter": "python",
      "pygments_lexer": "ipython3",
      "version": "3.6.9"
    }
  },
  "cells": [
    {
      "cell_type": "markdown",
      "metadata": {
        "id": "view-in-github",
        "colab_type": "text"
      },
      "source": [
        "<a href=\"https://colab.research.google.com/github/william1209/gan/blob/main/cyclegan.ipynb\" target=\"_parent\"><img src=\"https://colab.research.google.com/assets/colab-badge.svg\" alt=\"Open In Colab\"/></a>"
      ]
    },
    {
      "cell_type": "markdown",
      "metadata": {
        "id": "BQTxLifJdd-E"
      },
      "source": [
        "## Label Process"
      ]
    },
    {
      "cell_type": "code",
      "metadata": {
        "id": "jrBWOUoydq0R"
      },
      "source": [
        "from google.colab import drive\n",
        "drive.mount('/content/drive')"
      ],
      "execution_count": null,
      "outputs": []
    },
    {
      "cell_type": "code",
      "metadata": {
        "id": "c749t_3MqPCt"
      },
      "source": [
        "!pip list | grep tensorflow"
      ],
      "execution_count": null,
      "outputs": []
    },
    {
      "cell_type": "code",
      "metadata": {
        "id": "KphOXlIdfwI7"
      },
      "source": [
        "import pandas as pd\n",
        "import numpy as np\n",
        "df_label = pd.read_table('/content/drive/My Drive/train_label.txt' )\n",
        "df_label_test = pd.read_table('/content/drive/My Drive/test_label.txt')\n",
        "df_label_desired = pd.read_table('/content/drive/My Drive/test_desired_age.txt')\n",
        "print(len(df_label.index),len(df_label_test.index),len(df_label_desired.index))"
      ],
      "execution_count": null,
      "outputs": []
    },
    {
      "cell_type": "code",
      "metadata": {
        "id": "GrDopo25sGYS"
      },
      "source": [
        "df_label_test.index"
      ],
      "execution_count": null,
      "outputs": []
    },
    {
      "cell_type": "code",
      "metadata": {
        "id": "03GKdpLMROM5"
      },
      "source": [
        "def condition(df_label):\n",
        "  #con0 = [df_label['age'][i]<=20 for i in range(len(df_label))]\n",
        "  condition1 = [20<=df_label['age'][i]<36 for i in range(len(df_label))]\n",
        "  condition2 = [36<=df_label['age'][i]<=52 for i in range(len(df_label))]\n",
        "  condition3 = [70>=df_label['age'][i]>52 for i in range(len(df_label))]\n",
        "  #con4 = [df_label['age'][i]>=52 for i in range(len(df_label))]\n",
        "  return condition1,condition2,condition3"
      ],
      "execution_count": null,
      "outputs": []
    },
    {
      "cell_type": "code",
      "metadata": {
        "id": "qZ_SKgXZL-lw"
      },
      "source": [
        "def count(df_label):\n",
        "  count1 = 0\n",
        "  count2 = 0\n",
        "  count3 = 0\n",
        "  con1,con2,con3 = condition(df_label)\n",
        "  for i in range(len(df_label)):\n",
        "    if(con1[i]):\n",
        "      count1+=1\n",
        "    elif(con3[i]):\n",
        "      count3+=1\n",
        "    elif(con2[i]):\n",
        "      count2+=1\n",
        "  return count1,count2,count3"
      ],
      "execution_count": null,
      "outputs": []
    },
    {
      "cell_type": "code",
      "metadata": {
        "id": "QNc_8dEPM1fC"
      },
      "source": [
        "def assign(df,t1,t2,t3):\n",
        "  count1 = 0\n",
        "  count2 = 0\n",
        "  count3 = 0\n",
        "  con1,con2,con3 = condition(df)\n",
        "  index_list1 = np.zeros(t1)\n",
        "  index_list2 = np.zeros(t2)\n",
        "  index_list3 = np.zeros(t3)\n",
        "  for i in range(len(df)):\n",
        "    if(con1[i]):\n",
        "      index_list1[count1] = i\n",
        "      count1+=1\n",
        "    elif(con3[i]):\n",
        "      index_list3[count3] = i\n",
        "      count3+=1\n",
        "    elif(con2[i]):\n",
        "      index_list2[count2] = i\n",
        "      count2+=1\n",
        "  return index_list1,index_list2,index_list3"
      ],
      "execution_count": null,
      "outputs": []
    },
    {
      "cell_type": "code",
      "metadata": {
        "id": "PruwdBUjMdJl"
      },
      "source": [
        "count1,count2,count3 = count(df_label)\n",
        "print(count1,count2,count3)"
      ],
      "execution_count": null,
      "outputs": []
    },
    {
      "cell_type": "code",
      "metadata": {
        "id": "2J0amX-foBbl"
      },
      "source": [
        "count1_test,count2_test,count3_test = count(df_label_test)\n",
        "print(count1_test,count2_test,count3_test)"
      ],
      "execution_count": null,
      "outputs": []
    },
    {
      "cell_type": "code",
      "metadata": {
        "id": "ETnKuwbZOSvM"
      },
      "source": [
        "index_c1,index_c2,index_c3 = assign(df_label,count1,count2,count3)"
      ],
      "execution_count": null,
      "outputs": []
    },
    {
      "cell_type": "code",
      "metadata": {
        "id": "LLsIdjxXoidx"
      },
      "source": [
        "index_c1_test,index_c2_test,index_c3_test = assign(df_label_test,count1_test,count2_test,count3_test)"
      ],
      "execution_count": null,
      "outputs": []
    },
    {
      "cell_type": "code",
      "metadata": {
        "id": "G9Ii76dVvAKs"
      },
      "source": [
        "def to_df(df,index):\n",
        "  pic = df['pic'][index]\n",
        "  age = df['age'][index]\n",
        "  dit = {'pic':pic,'age':age}\n",
        "  df_to_return = pd.DataFrame(dit)\n",
        "  return df_to_return"
      ],
      "execution_count": null,
      "outputs": []
    },
    {
      "cell_type": "code",
      "metadata": {
        "id": "xuc8aIwcvyg3"
      },
      "source": [
        "c1 = to_df(df_label,index_c1)\n",
        "c2 = to_df(df_label,index_c2)\n",
        "c3 = to_df(df_label,index_c3)\n",
        "\n",
        "c1_test = to_df(df_label_test,index_c1_test)\n",
        "c2_test = to_df(df_label_test,index_c2_test)\n",
        "c3_test = to_df(df_label_test,index_c3_test)\n"
      ],
      "execution_count": null,
      "outputs": []
    },
    {
      "cell_type": "code",
      "metadata": {
        "id": "R4o8w8KLv85T"
      },
      "source": [
        "c1.head()"
      ],
      "execution_count": null,
      "outputs": []
    },
    {
      "cell_type": "code",
      "metadata": {
        "id": "XCT6dBebpsS_"
      },
      "source": [
        "#training set init\n",
        "\n",
        "c1_pic = c1['pic'].to_list()\n",
        "c2_pic = c2['pic'].to_list()\n",
        "c3_pic = c3['pic'].to_list()\n",
        "c1_label = c1['age'].to_list()\n",
        "c2_label = c2['age'].to_list()\n",
        "c3_label = c3['age'].to_list()\n",
        "c1_pic_path = []\n",
        "c2_pic_path = []\n",
        "c3_pic_path = []"
      ],
      "execution_count": null,
      "outputs": []
    },
    {
      "cell_type": "code",
      "metadata": {
        "id": "72uJYh7AywTK"
      },
      "source": [
        "#test set init\n",
        "c1_pic_test = c1_test['pic'].to_list()\n",
        "c2_pic_test = c2_test['pic'].to_list()\n",
        "c3_pic_test = c3_test['pic'].to_list()\n",
        "c1_label_test = c1_test['age'].to_list()\n",
        "c2_label_test = c2_test['age'].to_list()\n",
        "c3_label_test = c3_test['age'].to_list()\n",
        "c1_pic_path_test = []\n",
        "c2_pic_path_test = []\n",
        "c3_pic_path_test = []"
      ],
      "execution_count": null,
      "outputs": []
    },
    {
      "cell_type": "code",
      "metadata": {
        "id": "htrtjz8WvGAn"
      },
      "source": [
        "import os\n",
        "import numpy as np\n",
        "\n",
        "#file_dir = \"/content/drive/My Drive/thumbnails128x128/train\"\n",
        "#c1_pic_path = []\n",
        "for dirPath, dirNames, fileNames in os.walk(file_dir):\n",
        "    #print(dirNames)\n",
        "    for name in fileNames:\n",
        "      if(name in c1_pic):\n",
        "        c1_pic_path.append(os.path.join(dirPath, name))\n",
        "        #print(os.path.basename(name),name)\n",
        "      #elif(name in c2_pic):\n",
        "      #  c2_pic_path.append(os.path.join(dirPath, name))\n",
        "      #else:\n",
        "      #  c3_pic_path.append(os.path.join(dirPath, name))\n",
        "\n",
        "#print(len(c1_pic_path),len(c2_pic_path),len(c3_pic_path)) \n",
        "print(len(c1_pic_path))   "
      ],
      "execution_count": null,
      "outputs": []
    },
    {
      "cell_type": "code",
      "metadata": {
        "id": "B3DnnI6KP0z2"
      },
      "source": [
        "#fetch train data\n",
        "\n",
        "import glob\n",
        "store = []\n",
        "for num in range(65):\n",
        "  num = num*1000\n",
        "  num_str = str(num)\n",
        "  num_str = num_str.zfill(5)\n",
        "  addr = \"/content/drive/My Drive/ffhq-dataset/thumbnails128x128/train/\"+num_str+\"/*.png\"\n",
        "  store.append(glob.iglob(addr))\n",
        "                "
      ],
      "execution_count": null,
      "outputs": []
    },
    {
      "cell_type": "code",
      "metadata": {
        "id": "Kujv7a-hY8JE"
      },
      "source": [
        "for i in range(len(store)):\n",
        "  for ii in store[i]:\n",
        "    print(os.path.basename(ii))"
      ],
      "execution_count": null,
      "outputs": []
    },
    {
      "cell_type": "code",
      "metadata": {
        "id": "2vPxwC-RZYRd"
      },
      "source": [
        "for i in store[64]:\n",
        "  #print(os.path.basename(i))\n",
        "  if(os.path.basename(i) in c1_pic):\n",
        "    c1_pic_path.append(i)\n",
        "  \n",
        "print(c1_pic_path)"
      ],
      "execution_count": null,
      "outputs": []
    },
    {
      "cell_type": "code",
      "metadata": {
        "id": "KSKVVLxMb0ii"
      },
      "source": [
        "#parse training set path\n",
        "import os\n",
        "for ii in range(len(store)):\n",
        "  for i in store[ii]:\n",
        "    #print(os.path.basename(i))\n",
        "    if(os.path.basename(i) in c1_pic):\n",
        "      c1_pic_path.append(i)\n",
        "    elif(os.path.basename(i) in c2_pic):\n",
        "      c2_pic_path.append(i)\n",
        "    elif(os.path.basename(i) in c3_pic):\n",
        "      c3_pic_path.append(i)\n",
        "\n",
        "print(len(c1_pic_path),len(c2_pic_path),len(c3_pic_path))\n"
      ],
      "execution_count": null,
      "outputs": []
    },
    {
      "cell_type": "code",
      "metadata": {
        "id": "6msjNpy2KnY-"
      },
      "source": [
        "from random import sample\n",
        "c1_pic_path_sampled = sample(c1_pic_path,1000)\n",
        "c2_pic_path_sampled = sample(c2_pic_path,1000)\n",
        "c3_pic_path_sampled = sample(c3_pic_path,1000)\n",
        "print(c1_pic_path_sampled)"
      ],
      "execution_count": null,
      "outputs": []
    },
    {
      "cell_type": "code",
      "metadata": {
        "id": "FfP6IgN5k5kz"
      },
      "source": [
        "#fetch testdata\n",
        "\n",
        "import glob\n",
        "store_test = []\n",
        "for num in range(65,70):\n",
        "  num = num*1000\n",
        "  num_str = str(num)\n",
        "  num_str = num_str.zfill(5)\n",
        "  addr = \"/content/drive/My Drive/ffhq-dataset/thumbnails128x128/test/\"+num_str+\"/*.png\"\n",
        "  store_test.append(glob.iglob(addr))\n",
        "\n"
      ],
      "execution_count": null,
      "outputs": []
    },
    {
      "cell_type": "code",
      "metadata": {
        "id": "EtAaBYidlgso"
      },
      "source": [
        "#parse test set path\n",
        "for i in range(len(store_test)):\n",
        "  for ii in store_test[i]:\n",
        "    #print(os.path.basename(ii),ii)\n",
        "    if(os.path.basename(ii) in c1_pic_test):\n",
        "      c1_pic_path_test.append(ii)\n",
        "    elif(os.path.basename(ii) in c2_pic_test):\n",
        "      c2_pic_path_test.append(ii)\n",
        "    elif(os.path.basename(ii) in c3_pic_test):\n",
        "      c3_pic_path_test.append(ii)\n",
        "\n",
        "print(len(c1_pic_path_test),len(c2_pic_path_test),len(c3_pic_path_test))"
      ],
      "execution_count": null,
      "outputs": []
    },
    {
      "cell_type": "markdown",
      "metadata": {
        "id": "i03ULvdSS2RM"
      },
      "source": [
        "# Tansform to Tfrecord "
      ]
    },
    {
      "cell_type": "code",
      "metadata": {
        "id": "Z5TEcMY1dD-u"
      },
      "source": [
        "import tensorflow as tf\n",
        "\n",
        "# 二進位資料\n",
        "def _bytes_feature(value):\n",
        "  return tf.train.Feature(bytes_list=tf.train.BytesList(value=[value]))\n",
        "\n",
        "# 整數資料\n",
        "def _int64_feature(value):\n",
        "  return tf.train.Feature(int64_list=tf.train.Int64List(value=[value]))\n",
        "\n",
        "# 浮點數資料\n",
        "def _float32_feature(value):\n",
        "  return tf.train.Feature(float_list=tf.train.FloatList(value=value))"
      ],
      "execution_count": null,
      "outputs": []
    },
    {
      "cell_type": "code",
      "metadata": {
        "id": "bH9Eo7g-vPQf"
      },
      "source": [
        "import cv2\n",
        "def convert(images, labels, filename):\n",
        "  #n_samples = len(labels)\n",
        "  TFWriter = tf.compat.v1.python_io.TFRecordWriter(filename)\n",
        "\n",
        "  print('\\nTransform start...')\n",
        "  for i in range(len(labels)):\n",
        "    try:\n",
        "      image = cv2.imread(images[i])\n",
        "      #image = cv2.cvtColor(image,cv2.COLOR_BGR2RGB)\n",
        "      height,width,channel = image.shape\n",
        "      #image = cv2.resize(image,(224,224))\n",
        "            \n",
        "      if image is None:\n",
        "        print('Error image:' + images[i])\n",
        "      else:\n",
        "        image_raw = image.tostring()\n",
        "        label = int(labels[i])\n",
        "            \n",
        "        # 將 tf.train.Feature 合併成 tf.train.Features\n",
        "        ftrs = tf.train.Features(\n",
        "              feature={'Label': _int64_feature(label),\n",
        "                       'image_raw': _bytes_feature(image_raw),\n",
        "                       'channel':_int64_feature(channel),\n",
        "                       'width':_int64_feature(width),\n",
        "                       'height':_int64_feature(height)}\n",
        "                   )\n",
        "        \n",
        "        # 將 tf.train.Features 轉成 tf.train.Example\n",
        "        example = tf.train.Example(features=ftrs)\n",
        "\n",
        "        # 將 tf.train.Example 寫成 tfRecord 格式\n",
        "        TFWriter.write(example.SerializeToString())\n",
        "    except IOError as e:\n",
        "      print('Skip!\\n')\n",
        "\n",
        "  TFWriter.close()\n",
        "  print('Transform done!')"
      ],
      "execution_count": null,
      "outputs": []
    },
    {
      "cell_type": "code",
      "metadata": {
        "id": "KLi1xaDDwJeU"
      },
      "source": [
        "convert(c3_pic_path,c3_label,'/content/drive/My Drive/thumbnails128x128/c3_train.tfrecords')"
      ],
      "execution_count": null,
      "outputs": []
    },
    {
      "cell_type": "code",
      "metadata": {
        "id": "k5uq0mx_ibe7"
      },
      "source": [
        "tfrecord_path = '/root/tensorflow_datasets/cycle_gan/horse2zebra/2.0.0/cycle_gan-testA.tfrecord-00000-of-00001'\n",
        "\n",
        "dataset_tf = tf.data.TFRecordDataset(tfrecord_path)"
      ],
      "execution_count": null,
      "outputs": []
    },
    {
      "cell_type": "code",
      "metadata": {
        "id": "qMfkbPf3sxe3"
      },
      "source": [
        "for record in tf.compat.v1.python_io.tf_record_iterator(tfrecord_path):\n",
        "    example = tf.train.Example()\n",
        "    example.ParseFromString(record)\n",
        "\n",
        "    img = example.features.feature['image_raw'].float_list.value\n",
        "    label = example.features.feature['Label'].int64_list.value"
      ],
      "execution_count": null,
      "outputs": []
    },
    {
      "cell_type": "code",
      "metadata": {
        "id": "-qXwIak56Cbx"
      },
      "source": [
        "batch_size=32\n",
        "tfrecord_dataset = tf.data.TFRecordDataset(tfrecord_path)\n",
        "tfrecord_dataset = tfrecord_dataset.map(lambda   x:_parse_(x)).shuffle(True).batch(batch_size)"
      ],
      "execution_count": null,
      "outputs": []
    },
    {
      "cell_type": "code",
      "metadata": {
        "id": "6MMhvl5I6P7r"
      },
      "source": [
        "tfrecord_dataset"
      ],
      "execution_count": null,
      "outputs": []
    },
    {
      "cell_type": "markdown",
      "metadata": {
        "id": "_xnMOsbqHz61"
      },
      "source": [
        "# CycleGAN"
      ]
    },
    {
      "cell_type": "markdown",
      "metadata": {
        "id": "ITZuApL56Mny"
      },
      "source": [
        "This notebook demonstrates unpaired image to image translation using conditional GAN's, as described in [Unpaired Image-to-Image Translation using Cycle-Consistent Adversarial Networks](https://arxiv.org/abs/1703.10593), also known as CycleGAN. The paper proposes a method that can capture the characteristics of one image domain and figure out how these characteristics could be translated into another image domain, all in the absence of any paired training examples. \n",
        "\n",
        "This notebook assumes you are familiar with Pix2Pix, which you can learn about in the [Pix2Pix tutorial](https://www.tensorflow.org/tutorials/generative/pix2pix). The code for CycleGAN is similar, the main difference is an additional loss function, and the use of unpaired training data.\n",
        "\n",
        "CycleGAN uses a cycle consistency loss to enable training without the need for paired data. In other words, it can translate from one domain to another without a one-to-one mapping between the source and target domain. \n",
        "\n",
        "This opens up the possibility to do a lot of interesting tasks like photo-enhancement, image colorization, style transfer, etc. All you need is the source and the target dataset (which is simply a directory of images).\n",
        "\n",
        "![Output Image 1](https://github.com/tensorflow/docs/blob/master/site/en/tutorials/generative/images/horse2zebra_1.png?raw=1)\n",
        "![Output Image 2](https://github.com/tensorflow/docs/blob/master/site/en/tutorials/generative/images/horse2zebra_2.png?raw=1)"
      ]
    },
    {
      "cell_type": "markdown",
      "metadata": {
        "id": "e1_Y75QXJS6h"
      },
      "source": [
        "## Set up the input pipeline"
      ]
    },
    {
      "cell_type": "markdown",
      "metadata": {
        "id": "5fGHWOKPX4ta"
      },
      "source": [
        "Install the [tensorflow_examples](https://github.com/tensorflow/examples) package that enables importing of the generator and the discriminator."
      ]
    },
    {
      "cell_type": "code",
      "metadata": {
        "id": "bJ1ROiQxJ-vY"
      },
      "source": [
        "!pip install git+https://github.com/tensorflow/examples.git"
      ],
      "execution_count": null,
      "outputs": []
    },
    {
      "cell_type": "code",
      "metadata": {
        "id": "YfIk2es3hJEd"
      },
      "source": [
        "import tensorflow as tf\n",
        "import tensorflow_datasets as tfds\n",
        "from tensorflow_examples.models.pix2pix import pix2pix\n",
        "\n",
        "import os\n",
        "import time\n",
        "import matplotlib.pyplot as plt\n",
        "from IPython.display import clear_output\n",
        "import numpy as np\n",
        "\n",
        "tfds.disable_progress_bar()\n",
        "AUTOTUNE = tf.data.experimental.AUTOTUNE"
      ],
      "execution_count": null,
      "outputs": []
    },
    {
      "cell_type": "code",
      "metadata": {
        "id": "b_7zGQlvWy6w"
      },
      "source": [
        "def solve_cudnn_error():\n",
        "    gpus = tf.config.experimental.list_physical_devices('GPU')\n",
        "    if gpus:\n",
        "        try:\n",
        "            # Currently, memory growth needs to be the same across GPUs\n",
        "            for gpu in gpus:\n",
        "                tf.config.experimental.set_memory_growth(gpu, True)\n",
        "            logical_gpus = tf.config.experimental.list_logical_devices('GPU')\n",
        "            print(len(gpus), \"Physical GPUs,\", len(logical_gpus), \"Logical GPUs\")\n",
        "        except RuntimeError as e:\n",
        "            # Memory growth must be set before GPUs have been initialized\n",
        "            print(e)"
      ],
      "execution_count": null,
      "outputs": []
    },
    {
      "cell_type": "markdown",
      "metadata": {
        "id": "iYn4MdZnKCey"
      },
      "source": [
        "## Input Pipeline\n",
        "\n",
        "This tutorial trains a model to translate from images of horses, to images of zebras. You can find this dataset and similar ones [here](https://www.tensorflow.org/datasets/datasets#cycle_gan). \n",
        "\n",
        "As mentioned in the [paper](https://arxiv.org/abs/1703.10593), apply random jittering and mirroring to the training dataset. These are some of the image augmentation techniques that avoids overfitting.\n",
        "\n",
        "This is similar to what was done in [pix2pix](https://www.tensorflow.org/tutorials/generative/pix2pix#load_the_dataset)\n",
        "\n",
        "* In random jittering, the image is resized to `286 x 286` and then randomly cropped to `256 x 256`.\n",
        "* In random mirroring, the image is randomly flipped horizontally i.e left to right."
      ]
    },
    {
      "cell_type": "code",
      "metadata": {
        "id": "iuGVPOo7Cce0"
      },
      "source": [
        "dataset = tfds.load('cycle_gan/horse2zebra',\n",
        "                              with_info=False, as_supervised=True)\n",
        "#metadata\n",
        "ds_np = tfds.as_numpy(dataset)"
      ],
      "execution_count": null,
      "outputs": []
    },
    {
      "cell_type": "code",
      "metadata": {
        "id": "jyw1MIZFFkUz"
      },
      "source": [
        "train_horses, train_zebras = dataset['trainA'], dataset['trainB']\n",
        "test_horses, test_zebras = dataset['testA'], dataset['testB']"
      ],
      "execution_count": null,
      "outputs": []
    },
    {
      "cell_type": "code",
      "metadata": {
        "id": "IVl1R-hBNdad"
      },
      "source": [
        "(train_horses)\n",
        "for i in train_horses:\n",
        "  print(type(i))"
      ],
      "execution_count": null,
      "outputs": []
    },
    {
      "cell_type": "code",
      "metadata": {
        "id": "qtYDyPM5Ae8l"
      },
      "source": [
        "for i in train_horses:\n",
        "  proto_tensor = tf.make_tensor_proto(i) \n",
        "  ll_train = tf.make_ndarray(proto_tensor)"
      ],
      "execution_count": null,
      "outputs": []
    },
    {
      "cell_type": "code",
      "metadata": {
        "id": "aQSyKZiBEd96"
      },
      "source": [
        "\n",
        "data_dirA = \"/root/tensorflow_datasets/downloads/extracted/ZIP.peop.eecs.berk.edu_taes_park_Cycl_data_horp02dOS7syplmtRKHp2yhJq9HPZ3k8-j8DpzaCPoXMKE.zip/horse2zebra/trainA*/*\"\n",
        "data_dirB = \"/root/tensorflow_datasets/downloads/extracted/ZIP.peop.eecs.berk.edu_taes_park_Cycl_data_horp02dOS7syplmtRKHp2yhJq9HPZ3k8-j8DpzaCPoXMKE.zip/horse2zebra/trainB*/*\"\n",
        "data_dirA_test = \"/root/tensorflow_datasets/downloads/extracted/ZIP.peop.eecs.berk.edu_taes_park_Cycl_data_horp02dOS7syplmtRKHp2yhJq9HPZ3k8-j8DpzaCPoXMKE.zip/horse2zebra/testA*/*\"\n",
        "data_dirB_test = \"/root/tensorflow_datasets/downloads/extracted/ZIP.peop.eecs.berk.edu_taes_park_Cycl_data_horp02dOS7syplmtRKHp2yhJq9HPZ3k8-j8DpzaCPoXMKE.zip/horse2zebra/testB*/*\" \n",
        "\n",
        "\n",
        "\n",
        "list_ds_A = tf.compat.v1.data.Dataset.list_files(data_dirA)\n",
        "list_ds_B = tf.compat.v1.data.Dataset.list_files(data_dirB)\n",
        "\n",
        "list_ds_A_test = tf.compat.v1.data.Dataset.list_files(data_dirA_test)\n",
        "list_ds_B_test = tf.compat.v1.data.Dataset.list_files(data_dirB_test)"
      ],
      "execution_count": null,
      "outputs": []
    },
    {
      "cell_type": "code",
      "metadata": {
        "id": "2CbTEt448b4R"
      },
      "source": [
        "BUFFER_SIZE = 1000\n",
        "BATCH_SIZE = 1\n",
        "IMG_WIDTH = 256\n",
        "IMG_HEIGHT = 256"
      ],
      "execution_count": null,
      "outputs": []
    },
    {
      "cell_type": "code",
      "metadata": {
        "id": "a5Ym53yxdaCh"
      },
      "source": [
        "#temp1 = tf.compat.v1.data.Dataset.list_files(c1_pic_path)\n",
        "temp1 = tf.compat.v1.data.Dataset.from_tensor_slices(c1_pic_path_sampled)\n",
        "temp2 = tf.compat.v1.data.Dataset.from_tensor_slices(c2_pic_path_sampled)\n",
        "temp3 = tf.compat.v1.data.Dataset.from_tensor_slices(c3_pic_path_sampled)\n",
        "\n",
        "temp1_test = tf.compat.v1.data.Dataset.from_tensor_slices(c1_pic_path_test)\n",
        "temp2_test = tf.compat.v1.data.Dataset.from_tensor_slices(c2_pic_path_test)\n",
        "temp3_test = tf.compat.v1.data.Dataset.from_tensor_slices(c3_pic_path_test)"
      ],
      "execution_count": null,
      "outputs": []
    },
    {
      "cell_type": "code",
      "metadata": {
        "id": "TJdg-A2DQF_x"
      },
      "source": [
        "print(type(temp3),type(temp3_test))"
      ],
      "execution_count": null,
      "outputs": []
    },
    {
      "cell_type": "code",
      "metadata": {
        "id": "OpyqURD_7rfp"
      },
      "source": [
        "def decode_img(img):\n",
        "  # convert the compressed string to a 3D uint8 tensor\n",
        "  img = tf.image.decode_jpeg(img, channels=3)\n",
        "  # Use `convert_image_dtype` to convert to floats in the [0,1] range.\n",
        "  img = tf.image.convert_image_dtype(img, tf.float32)\n",
        "  # resize the image to the desired size.\n",
        "  return tf.image.resize(img, [IMG_HEIGHT, IMG_WIDTH])"
      ],
      "execution_count": null,
      "outputs": []
    },
    {
      "cell_type": "code",
      "metadata": {
        "id": "C7TWaqMsQhQa"
      },
      "source": [
        "def decode_img_png(img):\n",
        "  # convert the compressed string to a 3D uint8 tensor\n",
        "  img = tf.image.decode_png(img, channels=3)\n",
        "  # Use `convert_image_dtype` to convert to floats in the [0,1] range.\n",
        "  img = tf.image.convert_image_dtype(img, tf.float32)\n",
        "  # resize the image to the desired size.\n",
        "  return tf.image.resize(img, [IMG_HEIGHT, IMG_WIDTH])"
      ],
      "execution_count": null,
      "outputs": []
    },
    {
      "cell_type": "code",
      "metadata": {
        "id": "4ucan4317rdR"
      },
      "source": [
        "def process_path(file_path):\n",
        "  #label = get_label(file_path)\n",
        "\n",
        "  # load the raw data from the file as a string\n",
        "  #img = cv2.imread(file_path)\n",
        "  img = tf.io.read_file(file_path)\n",
        "  img = decode_img(img)\n",
        "  return img "
      ],
      "execution_count": null,
      "outputs": []
    },
    {
      "cell_type": "code",
      "metadata": {
        "id": "cR6gyLxTRJ49"
      },
      "source": [
        "def process_path_png(file_path):\n",
        "  #label = get_label(file_path)\n",
        "\n",
        "  # load the raw data from the file as a string\n",
        "  #img = cv2.imread(file_path)\n",
        "  img = tf.io.read_file(file_path)\n",
        "  img = decode_img_png(img)\n",
        "  return img "
      ],
      "execution_count": null,
      "outputs": []
    },
    {
      "cell_type": "code",
      "metadata": {
        "id": "goRT_TJPQwKu"
      },
      "source": [
        "#mapping train data\n",
        "labeled_temp1 = temp1.map(process_path_png, num_parallel_calls=AUTOTUNE).cache().shuffle(\n",
        "    BUFFER_SIZE).batch(BATCH_SIZE)\n",
        "labeled_temp2 = temp2.map(process_path_png, num_parallel_calls=AUTOTUNE).cache().shuffle(\n",
        "    BUFFER_SIZE).batch(BATCH_SIZE)\n",
        "labeled_temp3 = temp3.map(process_path_png, num_parallel_calls=AUTOTUNE).cache().shuffle(\n",
        "    BUFFER_SIZE).batch(BATCH_SIZE)\n",
        "\n",
        "#mapping test set\n",
        "\n",
        "labeled_temp1_test = temp1_test.map(process_path_png, num_parallel_calls=AUTOTUNE).cache().shuffle(\n",
        "    BUFFER_SIZE).batch(BATCH_SIZE)\n",
        "labeled_temp2_test = temp2_test.map(process_path_png, num_parallel_calls=AUTOTUNE).cache().shuffle(\n",
        "    BUFFER_SIZE).batch(BATCH_SIZE)\n",
        "labeled_temp3_test = temp3_test.map(process_path_png, num_parallel_calls=AUTOTUNE).cache().shuffle(\n",
        "    BUFFER_SIZE).batch(BATCH_SIZE)"
      ],
      "execution_count": null,
      "outputs": []
    },
    {
      "cell_type": "code",
      "metadata": {
        "id": "6CzNeug_Stwc"
      },
      "source": [
        "sample_A = next(iter(labeled_temp1))\n",
        "#sample_B = next(iter(labeled_temp2))\n",
        "sample_C = next(iter(labeled_temp3))\n",
        "#sample_A_test = \n"
      ],
      "execution_count": null,
      "outputs": []
    },
    {
      "cell_type": "code",
      "metadata": {
        "id": "Yn3IwqhiIszt"
      },
      "source": [
        "def random_crop(image):\n",
        "  cropped_image = tf.image.random_crop(\n",
        "      image, size=[IMG_HEIGHT, IMG_WIDTH, 3])\n",
        "\n",
        "  return cropped_image"
      ],
      "execution_count": null,
      "outputs": []
    },
    {
      "cell_type": "code",
      "metadata": {
        "id": "muhR2cgbLKWW"
      },
      "source": [
        "# normalizing the images to [-1, 1]\n",
        "def normalize(image):\n",
        "  image = tf.cast(image, tf.float32)\n",
        "  image = (image / 127.5) - 1\n",
        "  return image"
      ],
      "execution_count": null,
      "outputs": []
    },
    {
      "cell_type": "code",
      "metadata": {
        "id": "fVQOjcPVLrUc"
      },
      "source": [
        "def random_jitter(image):\n",
        "  # resizing to 286 x 286 x 3\n",
        "  image = tf.image.resize(image, [286, 286],\n",
        "                          method=tf.image.ResizeMethod.NEAREST_NEIGHBOR)\n",
        "\n",
        "  # randomly cropping to 256 x 256 x 3\n",
        "  image = random_crop(image)\n",
        "\n",
        "  # random mirroring\n",
        "  image = tf.image.random_flip_left_right(image)\n",
        "\n",
        "  return image"
      ],
      "execution_count": null,
      "outputs": []
    },
    {
      "cell_type": "code",
      "metadata": {
        "id": "tyaP4hLJ8b4W"
      },
      "source": [
        "def preprocess_image_train(image ,label):\n",
        "  image = random_jitter(image)\n",
        "  image = normalize(image)\n",
        "  return image"
      ],
      "execution_count": null,
      "outputs": []
    },
    {
      "cell_type": "code",
      "metadata": {
        "id": "VB3Z6D_zKSru"
      },
      "source": [
        "def preprocess_image_test(image ,label):\n",
        "  image = normalize(image)\n",
        "  return image"
      ],
      "execution_count": null,
      "outputs": []
    },
    {
      "cell_type": "code",
      "metadata": {
        "id": "4pOYjMk_KfIB"
      },
      "source": [
        "plt.subplot(121)\n",
        "plt.title('Young Bitch')\n",
        "plt.imshow(sample_A[0] )\n",
        "\n",
        "plt.subplot(122)\n",
        "plt.title('Young Bitch with random jitter')\n",
        "plt.imshow(random_jitter(sample_A[0]) )"
      ],
      "execution_count": null,
      "outputs": []
    },
    {
      "cell_type": "code",
      "metadata": {
        "id": "0KJyB9ENLb2y"
      },
      "source": [
        "plt.subplot(121)\n",
        "plt.title('Old Bitch')\n",
        "plt.imshow(sample_C[0] )\n",
        "\n",
        "plt.subplot(122)\n",
        "plt.title('Old Bitch with random jitter')\n",
        "plt.imshow(random_jitter(sample_C[0])  )"
      ],
      "execution_count": null,
      "outputs": []
    },
    {
      "cell_type": "code",
      "metadata": {
        "id": "wbh1uTo2RxHG"
      },
      "source": [
        "sample_horse = sample_A\n",
        "sample_zebra = sample_C"
      ],
      "execution_count": null,
      "outputs": []
    },
    {
      "cell_type": "markdown",
      "metadata": {
        "id": "hvX8sKsfMaio"
      },
      "source": [
        "## Import and reuse the Pix2Pix models"
      ]
    },
    {
      "cell_type": "markdown",
      "metadata": {
        "id": "cGrL73uCd-_M"
      },
      "source": [
        "Import the generator and the discriminator used in [Pix2Pix](https://github.com/tensorflow/examples/blob/master/tensorflow_examples/models/pix2pix/pix2pix.py) via the installed [tensorflow_examples](https://github.com/tensorflow/examples) package.\n",
        "\n",
        "The model architecture used in this tutorial is very similar to what was used in [pix2pix](https://github.com/tensorflow/examples/blob/master/tensorflow_examples/models/pix2pix/pix2pix.py). Some of the differences are:\n",
        "\n",
        "* Cyclegan uses [instance normalization](https://arxiv.org/abs/1607.08022) instead of [batch normalization](https://arxiv.org/abs/1502.03167).\n",
        "* The [CycleGAN paper](https://arxiv.org/abs/1703.10593) uses a modified `resnet` based generator. This tutorial is using a modified `unet` generator for simplicity.\n",
        "\n",
        "There are 2 generators (G and F) and 2 discriminators (X and Y) being trained here. \n",
        "\n",
        "* Generator `G` learns to transform image `X` to image `Y`. $(G: X -> Y)$\n",
        "* Generator `F` learns to transform image `Y` to image `X`. $(F: Y -> X)$\n",
        "* Discriminator `D_X` learns to differentiate between image `X` and generated image `X` (`F(Y)`).\n",
        "* Discriminator `D_Y` learns to differentiate between image `Y` and generated image `Y` (`G(X)`).\n",
        "\n",
        "![Cyclegan model](https://github.com/tensorflow/docs/blob/master/site/en/tutorials/generative/images/cyclegan_model.png?raw=1)"
      ]
    },
    {
      "cell_type": "code",
      "metadata": {
        "id": "8ju9Wyw87MRW"
      },
      "source": [
        "OUTPUT_CHANNELS = 3\n",
        "\n",
        "generator_g = pix2pix.unet_generator(OUTPUT_CHANNELS, norm_type='instancenorm')\n",
        "generator_f = pix2pix.unet_generator(OUTPUT_CHANNELS, norm_type='instancenorm')\n",
        "\n",
        "discriminator_x = pix2pix.discriminator(norm_type='instancenorm', target=False)\n",
        "discriminator_y = pix2pix.discriminator(norm_type='instancenorm', target=False)"
      ],
      "execution_count": null,
      "outputs": []
    },
    {
      "cell_type": "code",
      "metadata": {
        "id": "wDaGZ3WpZUyw"
      },
      "source": [
        "to_zebra = generator_g(sample_horse)\n",
        "to_horse = generator_f(sample_zebra)\n",
        "plt.figure(figsize=(8, 8))\n",
        "contrast = 10\n",
        "\n",
        "imgs = [sample_horse, to_zebra, sample_zebra, to_horse]\n",
        "title = ['Horse', 'To Zebra', 'Zebra', 'To Horse']\n",
        "\n",
        "for i in range(len(imgs)):\n",
        "  plt.subplot(2, 2, i+1)\n",
        "  plt.title(title[i])\n",
        "  if i % 2 == 0:\n",
        "    plt.imshow(imgs[i][0]  )\n",
        "    #plt.imshow(imgs[i][0] )\n",
        "  else:\n",
        "    plt.imshow(imgs[i][0]  * contrast )\n",
        "    #plt.imshow(imgs[i][0] )\n",
        "plt.show()"
      ],
      "execution_count": null,
      "outputs": []
    },
    {
      "cell_type": "code",
      "metadata": {
        "id": "O5MhJmxyZiy9"
      },
      "source": [
        "plt.figure(figsize=(8, 8))\n",
        "\n",
        "plt.subplot(121)\n",
        "plt.title('Is a real zebra?')\n",
        "plt.imshow(discriminator_y(sample_zebra)[0, ..., -1], cmap='RdBu_r')\n",
        "\n",
        "plt.subplot(122)\n",
        "plt.title('Is a real horse?')\n",
        "plt.imshow(discriminator_x(sample_horse)[0, ..., -1], cmap='RdBu_r')\n",
        "\n",
        "plt.show()"
      ],
      "execution_count": null,
      "outputs": []
    },
    {
      "cell_type": "markdown",
      "metadata": {
        "id": "0FMYgY_mPfTi"
      },
      "source": [
        "## Loss functions"
      ]
    },
    {
      "cell_type": "markdown",
      "metadata": {
        "id": "JRqt02lupRn8"
      },
      "source": [
        "In CycleGAN, there is no paired data to train on, hence there is no guarantee that the input `x` and the target `y` pair are meaningful during training. Thus in order to enforce that the network learns the correct mapping, the authors propose the cycle consistency loss.\n",
        "\n",
        "The discriminator loss and the generator loss are similar to the ones used in [pix2pix](https://www.tensorflow.org/tutorials/generative/pix2pix#define_the_loss_functions_and_the_optimizer)."
      ]
    },
    {
      "cell_type": "code",
      "metadata": {
        "id": "cyhxTuvJyIHV"
      },
      "source": [
        "LAMBDA = 10"
      ],
      "execution_count": null,
      "outputs": []
    },
    {
      "cell_type": "code",
      "metadata": {
        "id": "Q1Xbz5OaLj5C"
      },
      "source": [
        "loss_obj = tf.keras.losses.BinaryCrossentropy(from_logits=True)"
      ],
      "execution_count": null,
      "outputs": []
    },
    {
      "cell_type": "code",
      "metadata": {
        "id": "wkMNfBWlT-PV"
      },
      "source": [
        "def discriminator_loss(real, generated):\n",
        "  real_loss = loss_obj(tf.ones_like(real), real)\n",
        "\n",
        "  generated_loss = loss_obj(tf.zeros_like(generated), generated)\n",
        "\n",
        "  total_disc_loss = real_loss + generated_loss\n",
        "\n",
        "  return total_disc_loss * 0.5"
      ],
      "execution_count": null,
      "outputs": []
    },
    {
      "cell_type": "code",
      "metadata": {
        "id": "90BIcCKcDMxz"
      },
      "source": [
        "def generator_loss(generated):\n",
        "  return loss_obj(tf.ones_like(generated), generated)"
      ],
      "execution_count": null,
      "outputs": []
    },
    {
      "cell_type": "markdown",
      "metadata": {
        "id": "5iIWQzVF7f9e"
      },
      "source": [
        "Cycle consistency means the result should be close to the original input. For example, if one translates a sentence from English to French, and then translates it back from French to English, then the resulting sentence should be the same as the  original sentence.\n",
        "\n",
        "In cycle consistency loss, \n",
        "\n",
        "* Image $X$ is passed via generator $G$ that yields generated image $\\hat{Y}$.\n",
        "* Generated image $\\hat{Y}$ is passed via generator $F$ that yields cycled image $\\hat{X}$.\n",
        "* Mean absolute error is calculated between $X$ and $\\hat{X}$.\n",
        "\n",
        "$$forward\\ cycle\\ consistency\\ loss: X -> G(X) -> F(G(X)) \\sim \\hat{X}$$\n",
        "\n",
        "$$backward\\ cycle\\ consistency\\ loss: Y -> F(Y) -> G(F(Y)) \\sim \\hat{Y}$$\n",
        "\n",
        "\n",
        "![Cycle loss](https://github.com/tensorflow/docs/blob/master/site/en/tutorials/generative/images/cycle_loss.png?raw=1)"
      ]
    },
    {
      "cell_type": "code",
      "metadata": {
        "id": "NMpVGj_sW6Vo"
      },
      "source": [
        "def calc_cycle_loss(real_image, cycled_image):\n",
        "  loss1 = tf.reduce_mean(tf.abs(real_image - cycled_image))\n",
        "  \n",
        "  return LAMBDA * loss1"
      ],
      "execution_count": null,
      "outputs": []
    },
    {
      "cell_type": "markdown",
      "metadata": {
        "id": "U-tJL-fX0Mq7"
      },
      "source": [
        "As shown above, generator $G$ is responsible for translating image $X$ to image $Y$. Identity loss says that, if you fed image $Y$ to generator $G$, it should yield the real image $Y$ or something close to image $Y$.\n",
        "\n",
        "$$Identity\\ loss = |G(Y) - Y| + |F(X) - X|$$"
      ]
    },
    {
      "cell_type": "code",
      "metadata": {
        "id": "05ywEH680Aud"
      },
      "source": [
        "def identity_loss(real_image, same_image):\n",
        "  loss = tf.reduce_mean(tf.abs(real_image - same_image))\n",
        "  return LAMBDA * 0.5 * loss"
      ],
      "execution_count": null,
      "outputs": []
    },
    {
      "cell_type": "markdown",
      "metadata": {
        "id": "G-vjRM7IffTT"
      },
      "source": [
        "Initialize the optimizers for all the generators and the discriminators."
      ]
    },
    {
      "cell_type": "code",
      "metadata": {
        "id": "iWCn_PVdEJZ7"
      },
      "source": [
        "generator_g_optimizer = tf.keras.optimizers.Adam(2e-4, beta_1=0.5)\n",
        "generator_f_optimizer = tf.keras.optimizers.Adam(2e-4, beta_1=0.5)\n",
        "\n",
        "discriminator_x_optimizer = tf.keras.optimizers.Adam(2e-4, beta_1=0.5)\n",
        "discriminator_y_optimizer = tf.keras.optimizers.Adam(2e-4, beta_1=0.5)"
      ],
      "execution_count": null,
      "outputs": []
    },
    {
      "cell_type": "markdown",
      "metadata": {
        "id": "aKUZnDiqQrAh"
      },
      "source": [
        "## Checkpoints"
      ]
    },
    {
      "cell_type": "code",
      "metadata": {
        "id": "WJnftd5sQsv6"
      },
      "source": [
        "#checkpoint_path = \"./checkpoints/train\"\n",
        "checkpoint_path = \"/content/drive/My Drive/checkpointA2C/\"\n",
        "\n",
        "ckpt = tf.train.Checkpoint(generator_g=generator_g,\n",
        "                           generator_f=generator_f,\n",
        "                           discriminator_x=discriminator_x,\n",
        "                           discriminator_y=discriminator_y,\n",
        "                           generator_g_optimizer=generator_g_optimizer,\n",
        "                           generator_f_optimizer=generator_f_optimizer,\n",
        "                           discriminator_x_optimizer=discriminator_x_optimizer,\n",
        "                           discriminator_y_optimizer=discriminator_y_optimizer)\n",
        "\n",
        "ckpt_manager = tf.train.CheckpointManager(ckpt, checkpoint_path, max_to_keep=5)\n",
        "\n",
        "# if a checkpoint exists, restore the latest checkpoint.\n",
        "if ckpt_manager.latest_checkpoint:\n",
        "  ckpt.restore(ckpt_manager.latest_checkpoint)\n",
        "  print ('Latest checkpoint restored!!')"
      ],
      "execution_count": null,
      "outputs": []
    },
    {
      "cell_type": "markdown",
      "metadata": {
        "id": "Rw1fkAczTQYh"
      },
      "source": [
        "## Training\n",
        "\n",
        "Note: This example model is trained for fewer epochs (40) than the paper (200) to keep training time reasonable for this tutorial. Predictions may be less accurate. "
      ]
    },
    {
      "cell_type": "code",
      "metadata": {
        "id": "NS2GWywBbAWo"
      },
      "source": [
        "EPOCHS = 128"
      ],
      "execution_count": null,
      "outputs": []
    },
    {
      "cell_type": "code",
      "metadata": {
        "id": "RmdVsmvhPxyy"
      },
      "source": [
        "def generate_images(model, test_input):\n",
        "  prediction = model(test_input)\n",
        "    \n",
        "  plt.figure(figsize=(12, 12))\n",
        "\n",
        "  display_list = [test_input[0], prediction[0]]\n",
        "  title = ['Input Image', 'Predicted Image']\n",
        "\n",
        "  for i in range(2):\n",
        "    plt.subplot(1, 2, i+1)\n",
        "    plt.title(title[i])\n",
        "    # getting the pixel values between [0, 1] to plot it.\n",
        "    plt.imshow(display_list[i])\n",
        "    plt.axis('off')\n",
        "  plt.show()"
      ],
      "execution_count": null,
      "outputs": []
    },
    {
      "cell_type": "markdown",
      "metadata": {
        "id": "kE47ERn5fyLC"
      },
      "source": [
        "Even though the training loop looks complicated, it consists of four basic steps:\n",
        "\n",
        "* Get the predictions.\n",
        "* Calculate the loss.\n",
        "* Calculate the gradients using backpropagation.\n",
        "* Apply the gradients to the optimizer."
      ]
    },
    {
      "cell_type": "code",
      "metadata": {
        "id": "KBKUV2sKXDbY"
      },
      "source": [
        "@tf.function\n",
        "def train_step(real_x, real_y):\n",
        "  # persistent is set to True because the tape is used more than\n",
        "  # once to calculate the gradients.\n",
        "  with tf.GradientTape(persistent=True) as tape:\n",
        "    # Generator G translates X -> Y\n",
        "    # Generator F translates Y -> X.\n",
        "    \n",
        "    fake_y = generator_g(real_x, training=True)\n",
        "    cycled_x = generator_f(fake_y, training=True)\n",
        "\n",
        "    fake_x = generator_f(real_y, training=True)\n",
        "    cycled_y = generator_g(fake_x, training=True)\n",
        "\n",
        "    # same_x and same_y are used for identity loss.\n",
        "    same_x = generator_f(real_x, training=True)\n",
        "    same_y = generator_g(real_y, training=True)\n",
        "\n",
        "    disc_real_x = discriminator_x(real_x, training=True)\n",
        "    disc_real_y = discriminator_y(real_y, training=True)\n",
        "\n",
        "    disc_fake_x = discriminator_x(fake_x, training=True)\n",
        "    disc_fake_y = discriminator_y(fake_y, training=True)\n",
        "\n",
        "    # calculate the loss\n",
        "    gen_g_loss = generator_loss(disc_fake_y)\n",
        "    gen_f_loss = generator_loss(disc_fake_x)\n",
        "    \n",
        "    total_cycle_loss = calc_cycle_loss(real_x, cycled_x) + calc_cycle_loss(real_y, cycled_y)\n",
        "    \n",
        "    # Total generator loss = adversarial loss + cycle loss\n",
        "    total_gen_g_loss = gen_g_loss + total_cycle_loss + identity_loss(real_y, same_y)\n",
        "    total_gen_f_loss = gen_f_loss + total_cycle_loss + identity_loss(real_x, same_x)\n",
        "\n",
        "    disc_x_loss = discriminator_loss(disc_real_x, disc_fake_x)\n",
        "    disc_y_loss = discriminator_loss(disc_real_y, disc_fake_y)\n",
        "  \n",
        "  # Calculate the gradients for generator and discriminator\n",
        "  generator_g_gradients = tape.gradient(total_gen_g_loss, \n",
        "                                        generator_g.trainable_variables)\n",
        "  generator_f_gradients = tape.gradient(total_gen_f_loss, \n",
        "                                        generator_f.trainable_variables)\n",
        "  \n",
        "  discriminator_x_gradients = tape.gradient(disc_x_loss, \n",
        "                                            discriminator_x.trainable_variables)\n",
        "  discriminator_y_gradients = tape.gradient(disc_y_loss, \n",
        "                                            discriminator_y.trainable_variables)\n",
        "  \n",
        "  # Apply the gradients to the optimizer\n",
        "  generator_g_optimizer.apply_gradients(zip(generator_g_gradients, \n",
        "                                            generator_g.trainable_variables))\n",
        "\n",
        "  generator_f_optimizer.apply_gradients(zip(generator_f_gradients, \n",
        "                                            generator_f.trainable_variables))\n",
        "  \n",
        "  discriminator_x_optimizer.apply_gradients(zip(discriminator_x_gradients,\n",
        "                                                discriminator_x.trainable_variables))\n",
        "  \n",
        "  discriminator_y_optimizer.apply_gradients(zip(discriminator_y_gradients,\n",
        "                                                discriminator_y.trainable_variables))"
      ],
      "execution_count": null,
      "outputs": []
    },
    {
      "cell_type": "code",
      "metadata": {
        "id": "4wdynLUtUJ4N"
      },
      "source": [
        "#train_horses = labeled_ds_A\n",
        "#train_zebras = labeled_ds_B\n",
        "\n",
        "train_horses = labeled_temp1\n",
        "train_zebras = labeled_temp3"
      ],
      "execution_count": null,
      "outputs": []
    },
    {
      "cell_type": "code",
      "metadata": {
        "id": "2M7LmLtGEMQJ"
      },
      "source": [
        "for epoch in range(EPOCHS):\n",
        "  start = time.time()\n",
        "\n",
        "  n = 0\n",
        "  for image_x, image_y in tf.data.Dataset.zip((train_horses, train_zebras)):\n",
        "    train_step(image_x, image_y)\n",
        "    if n % 10 == 0:\n",
        "      print ('.', end='')\n",
        "    n+=1\n",
        "\n",
        "  clear_output(wait=True)\n",
        "  # Using a consistent image (sample_horse) so that the progress of the model\n",
        "  # is clearly visible.\n",
        "  generate_images(generator_g, sample_horse)\n",
        "\n",
        "  if (epoch + 1) % 5 == 0:\n",
        "    ckpt_save_path = ckpt_manager.save()\n",
        "    print ('Saving checkpoint for epoch {} at {}'.format(epoch+1,\n",
        "                                                         ckpt_save_path))\n",
        "\n",
        "  print ('Time taken for epoch {} is {} sec\\n'.format(epoch + 1,\n",
        "                                                      time.time()-start))"
      ],
      "execution_count": null,
      "outputs": []
    },
    {
      "cell_type": "markdown",
      "metadata": {
        "id": "1RGysMU_BZhx"
      },
      "source": [
        "## Generate using test dataset"
      ]
    },
    {
      "cell_type": "code",
      "metadata": {
        "id": "KUgSnmy2nqSP"
      },
      "source": [
        "# Run the trained model on the test dataset\n",
        "for inp in labeled_temp1_test:\n",
        "  generate_images(generator_g, inp)\n",
        "  \n",
        "  #generate_images(generator_f,inp)"
      ],
      "execution_count": null,
      "outputs": []
    },
    {
      "cell_type": "code",
      "metadata": {
        "id": "2ZTG9q2vHFTn"
      },
      "source": [
        "len(labeled_temp1_test)"
      ],
      "execution_count": null,
      "outputs": []
    },
    {
      "cell_type": "code",
      "metadata": {
        "id": "ZeJLRxTzIdmn"
      },
      "source": [
        "# Run the trained model on the test dataset\n",
        "for inp in labeled_temp1.take(5):\n",
        "  #generate_images(generator_g, inp)\n",
        "  generate_images(generator_f,inp)"
      ],
      "execution_count": null,
      "outputs": []
    },
    {
      "cell_type": "markdown",
      "metadata": {
        "id": "aOAcKyZMN6Br"
      },
      "source": [
        "###分隔線"
      ]
    },
    {
      "cell_type": "code",
      "metadata": {
        "id": "8KK_r1TtOFWV"
      },
      "source": [
        "test_compare = df_label_test['age'].to_list()\n",
        "desire_compare = df_label_desired['age'].to_list()\n",
        "test_compare_path = df_label_test['pic'].to_list()\n",
        "test_entire_path = []"
      ],
      "execution_count": null,
      "outputs": []
    },
    {
      "cell_type": "code",
      "metadata": {
        "id": "VBICvKRWN-Eo"
      },
      "source": [
        "#fetch testdata\n",
        "\n",
        "import glob\n",
        "store_test = []\n",
        "for num in range(65,70):\n",
        "  num = num*1000\n",
        "  num_str = str(num)\n",
        "  num_str = num_str.zfill(5)\n",
        "  addr = \"/content/drive/My Drive/ffhq-dataset/thumbnails128x128/test/\"+num_str+\"/*.png\"\n",
        "  store_test.append(glob.iglob(addr))\n",
        "\n",
        "\n",
        "#parse test set path\n",
        "for i in range(len(store_test)):\n",
        "  for ii in store_test[i]:\n",
        "    #print(os.path.basename(ii),ii)\n",
        "    test_entire_path.append(ii)\n",
        "\n",
        "\n",
        "print(len(test_entire_path))"
      ],
      "execution_count": null,
      "outputs": []
    },
    {
      "cell_type": "code",
      "metadata": {
        "id": "H0dmH23rNBEn"
      },
      "source": [
        "test_entire_path = tf.compat.v1.data.Dataset.from_tensor_slices(test_entire_path)\n",
        "test_entire_path_processed = test_entire_path.map(process_path_png, num_parallel_calls=AUTOTUNE).cache().shuffle(\n",
        "    BUFFER_SIZE).batch(BATCH_SIZE)"
      ],
      "execution_count": null,
      "outputs": []
    },
    {
      "cell_type": "code",
      "metadata": {
        "id": "8N6eAr12E5im"
      },
      "source": [
        "\n",
        "#test_compare = df_label_test['age'].to_list()\n",
        "#desire_compare = df_label_desired['age'].to_list()\n",
        "#test_entire_path = tf.compat.v1.data.Dataset.from_tensor_slices(test_entire_path)\n",
        "#test_entire_path_processed = test_entire_path.map(process_path_png, num_parallel_calls=AUTOTUNE).cache().shuffle(\n",
        "#    BUFFER_SIZE).batch(BATCH_SIZE)\n",
        "aged = []\n",
        "rec = []\n",
        "\n",
        "count_4_iter = 0\n",
        "for i in test_entire_path_processed:\n",
        "  if(test_compare[count_4_iter]<desire_compare[count_4_iter]):\n",
        "    aged.append(generator_f(i)) #young2old\n",
        "    rec.append(generator_g(i)) #old back to young\n",
        "  else:\n",
        "    aged.append(generator_g(i)) #old2young\n",
        "    rec.append(generator_f(i)) #young back to old\n"
      ],
      "execution_count": null,
      "outputs": []
    },
    {
      "cell_type": "code",
      "metadata": {
        "id": "Iwiyj3HzRDmK"
      },
      "source": [
        ""
      ],
      "execution_count": null,
      "outputs": []
    }
  ]
}